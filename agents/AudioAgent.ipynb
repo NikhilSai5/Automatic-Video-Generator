{
 "cells": [
  {
   "cell_type": "code",
   "execution_count": 18,
   "id": "9b13e906",
   "metadata": {},
   "outputs": [],
   "source": [
    "from typing import Annotated, Sequence, TypedDict, List, Dict\n",
    "from dotenv import load_dotenv  \n",
    "from langchain_core.messages import BaseMessage\n",
    "from langgraph.graph.message import add_messages\n",
    "from langgraph.graph import StateGraph, END, START\n",
    "from langchain_groq import ChatGroq\n",
    "from langgraph.prebuilt import ToolNode\n",
    "import os\n",
    "import json\n",
    "import requests\n",
    "from pptx import Presentation\n",
    "from pptx.util import Inches, Pt\n",
    "from pptx.enum.text import MSO_ANCHOR\n",
    "from io import BytesIO\n"
   ]
  },
  {
   "cell_type": "code",
   "execution_count": 19,
   "id": "5fb1692b",
   "metadata": {},
   "outputs": [],
   "source": [
    "load_dotenv()\n",
    "GROQ_API_KEY = os.getenv(\"GROQ_API_KEY\")\n",
    "os.environ[\"GROQ_API_KEY\"] = GROQ_API_KEY\n",
    "\n",
    "llm = ChatGroq(model=\"llama-3.1-8b-instant\")"
   ]
  },
  {
   "cell_type": "code",
   "execution_count": 20,
   "id": "2443f94e",
   "metadata": {},
   "outputs": [],
   "source": [
    "class AgentState(TypedDict):\n",
    "    messages: Annotated[Sequence[BaseMessage], add_messages]\n",
    "    subtopic: List[str]\n",
    "    slide_segments: List[Dict[str, str]]\n",
    "    ppt_output_path: str\n",
    "    audio_output_path: List[str]"
   ]
  },
  {
   "cell_type": "code",
   "execution_count": 21,
   "id": "cd09c36c",
   "metadata": {},
   "outputs": [],
   "source": [
    "def load_json_to_agent_state(json_path: str) -> AgentState:\n",
    "    with open(json_path, 'r', encoding='utf-8') as f:\n",
    "        data = json.load(f)\n",
    "\n",
    "    complete_slide_segments = []\n",
    "    for slide in data.get('slide_segments', []):\n",
    "        complete_slide = {\n",
    "            \"slide_no\": slide.get(\"slide_no\", 0),\n",
    "            \"subtopic\": slide.get(\"subtopic\", \"\"),\n",
    "            \"content_to_display\": slide.get(\"content_to_display\", \"\"),\n",
    "            \"narration_script\": slide.get(\"narration_script\", \"\"),\n",
    "            \"is_blank_slide\": slide.get(\"is_blank_slide\", False),\n",
    "            \"image_address\": slide.get(\"image_address\", \"\"),\n",
    "            \"video_address\": slide.get(\"video_address\", \"\"),\n",
    "            \"image_position\": slide.get(\"image_position\", \"\"),\n",
    "            \"content_position\": slide.get(\"test_position\", \"\")\n",
    "        }\n",
    "        complete_slide_segments.append(complete_slide)\n",
    "\n",
    "    return AgentState(\n",
    "        messages=[],\n",
    "        subtopic=data.get('subtopics', []),\n",
    "        slide_segments=complete_slide_segments,\n",
    "        ppt_output_path=\"\"\n",
    "    )\n"
   ]
  },
  {
   "cell_type": "code",
   "execution_count": null,
   "id": "0cb5b041",
   "metadata": {},
   "outputs": [],
   "source": [
    "from groq import Groq\n",
    "\n",
    "# Initialize the Groq client\n",
    "groq_client = Groq(api_key=os.environ.get(\"GROQ_API_KEY\"))\n",
    "\n",
    "def narration_to_audio(state: AgentState) -> AgentState:\n",
    "    updated_audio_paths = []\n",
    "    output_dir = \"../assets/audio\"\n",
    "    os.makedirs(output_dir, exist_ok=True)\n",
    "\n",
    "    for slide in state['slide_segments']:\n",
    "        slide_no = slide[\"slide_no\"]\n",
    "        narration = slide[\"narration_script\"]\n",
    "\n",
    "        if not narration:\n",
    "            updated_audio_paths.append(\"\")\n",
    "            continue\n",
    "\n",
    "        speech_file_path = os.path.join(output_dir, f\"slide{slide_no}.wav\")\n",
    "        \n",
    "        try:\n",
    "            response = groq_client.audio.speech.create(\n",
    "                model=\"playai-tts\",\n",
    "                voice=\"Fritz-PlayAI\", \n",
    "                input=narration,\n",
    "                response_format=\"wav\"\n",
    "            )\n",
    "            response.write_to_file(speech_file_path)\n",
    "            updated_audio_paths.append(speech_file_path)\n",
    "        except Exception as e:\n",
    "            print(f\"[ERROR] Failed to generate audio for slide {slide_no}: {e}\")\n",
    "            updated_audio_paths.append(\"\")\n",
    "\n",
    "    state[\"audio_output_path\"] = updated_audio_paths\n",
    "    return state\n"
   ]
  },
  {
   "cell_type": "code",
   "execution_count": 28,
   "id": "5826e5fb",
   "metadata": {},
   "outputs": [],
   "source": [
    "def load_data_node(state: AgentState) -> AgentState:\n",
    "    return load_json_to_agent_state('../assets/scripts/slide_segments.json')"
   ]
  },
  {
   "cell_type": "code",
   "execution_count": 29,
   "id": "28ac912f",
   "metadata": {},
   "outputs": [],
   "source": [
    "graph = StateGraph(AgentState)\n",
    "\n",
    "graph.add_node(\"LoadData\", load_data_node)\n",
    "graph.add_node(\"NarrationToAudio\", narration_to_audio)\n",
    "\n",
    "graph.add_edge(START, \"LoadData\")\n",
    "graph.add_edge(\"LoadData\", \"NarrationToAudio\")\n",
    "graph.add_edge(\"NarrationToAudio\", END)\n",
    "\n",
    "\n",
    "compiled_graph = graph.compile()\n"
   ]
  },
  {
   "cell_type": "code",
   "execution_count": 30,
   "id": "d635e72b",
   "metadata": {},
   "outputs": [
    {
     "name": "stdout",
     "output_type": "stream",
     "text": [
      "[ERROR] Failed to generate audio for slide 1: Error code: 400 - {'error': {'message': 'The model `playai-tts` requires terms acceptance. Please have the org admin accept the terms at https://console.groq.com/playground?model=playai-tts', 'type': 'invalid_request_error', 'code': 'model_terms_required'}}\n",
      "[ERROR] Failed to generate audio for slide 2: Error code: 400 - {'error': {'message': 'The model `playai-tts` requires terms acceptance. Please have the org admin accept the terms at https://console.groq.com/playground?model=playai-tts', 'type': 'invalid_request_error', 'code': 'model_terms_required'}}\n",
      "[ERROR] Failed to generate audio for slide 3: Error code: 400 - {'error': {'message': 'The model `playai-tts` requires terms acceptance. Please have the org admin accept the terms at https://console.groq.com/playground?model=playai-tts', 'type': 'invalid_request_error', 'code': 'model_terms_required'}}\n",
      "[ERROR] Failed to generate audio for slide 4: Error code: 400 - {'error': {'message': 'The model `playai-tts` requires terms acceptance. Please have the org admin accept the terms at https://console.groq.com/playground?model=playai-tts', 'type': 'invalid_request_error', 'code': 'model_terms_required'}}\n",
      "[ERROR] Failed to generate audio for slide 5: Error code: 400 - {'error': {'message': 'The model `playai-tts` requires terms acceptance. Please have the org admin accept the terms at https://console.groq.com/playground?model=playai-tts', 'type': 'invalid_request_error', 'code': 'model_terms_required'}}\n",
      "[ERROR] Failed to generate audio for slide 6: Error code: 400 - {'error': {'message': 'The model `playai-tts` requires terms acceptance. Please have the org admin accept the terms at https://console.groq.com/playground?model=playai-tts', 'type': 'invalid_request_error', 'code': 'model_terms_required'}}\n",
      "[ERROR] Failed to generate audio for slide 7: Error code: 400 - {'error': {'message': 'The model `playai-tts` requires terms acceptance. Please have the org admin accept the terms at https://console.groq.com/playground?model=playai-tts', 'type': 'invalid_request_error', 'code': 'model_terms_required'}}\n",
      "[ERROR] Failed to generate audio for slide 8: Error code: 400 - {'error': {'message': 'The model `playai-tts` requires terms acceptance. Please have the org admin accept the terms at https://console.groq.com/playground?model=playai-tts', 'type': 'invalid_request_error', 'code': 'model_terms_required'}}\n",
      "[ERROR] Failed to generate audio for slide 9: Error code: 400 - {'error': {'message': 'The model `playai-tts` requires terms acceptance. Please have the org admin accept the terms at https://console.groq.com/playground?model=playai-tts', 'type': 'invalid_request_error', 'code': 'model_terms_required'}}\n",
      "[ERROR] Failed to generate audio for slide 10: Error code: 400 - {'error': {'message': 'The model `playai-tts` requires terms acceptance. Please have the org admin accept the terms at https://console.groq.com/playground?model=playai-tts', 'type': 'invalid_request_error', 'code': 'model_terms_required'}}\n",
      "[ERROR] Failed to generate audio for slide 11: Error code: 400 - {'error': {'message': 'The model `playai-tts` requires terms acceptance. Please have the org admin accept the terms at https://console.groq.com/playground?model=playai-tts', 'type': 'invalid_request_error', 'code': 'model_terms_required'}}\n",
      "[ERROR] Failed to generate audio for slide 12: Error code: 400 - {'error': {'message': 'The model `playai-tts` requires terms acceptance. Please have the org admin accept the terms at https://console.groq.com/playground?model=playai-tts', 'type': 'invalid_request_error', 'code': 'model_terms_required'}}\n",
      "[ERROR] Failed to generate audio for slide 13: Error code: 400 - {'error': {'message': 'The model `playai-tts` requires terms acceptance. Please have the org admin accept the terms at https://console.groq.com/playground?model=playai-tts', 'type': 'invalid_request_error', 'code': 'model_terms_required'}}\n",
      "[ERROR] Failed to generate audio for slide 14: Error code: 400 - {'error': {'message': 'The model `playai-tts` requires terms acceptance. Please have the org admin accept the terms at https://console.groq.com/playground?model=playai-tts', 'type': 'invalid_request_error', 'code': 'model_terms_required'}}\n",
      "Generated Audio Paths: ['', '', '', '', '', '', '', '', '', '', '', '', '', '']\n"
     ]
    }
   ],
   "source": [
    "final_state = compiled_graph.invoke({})\n",
    "print(\"Generated Audio Paths:\", final_state['audio_output_path'])"
   ]
  },
  {
   "cell_type": "code",
   "execution_count": null,
   "id": "cc319b0b",
   "metadata": {},
   "outputs": [],
   "source": []
  }
 ],
 "metadata": {
  "kernelspec": {
   "display_name": "base",
   "language": "python",
   "name": "python3"
  },
  "language_info": {
   "codemirror_mode": {
    "name": "ipython",
    "version": 3
   },
   "file_extension": ".py",
   "mimetype": "text/x-python",
   "name": "python",
   "nbconvert_exporter": "python",
   "pygments_lexer": "ipython3",
   "version": "3.11.4"
  }
 },
 "nbformat": 4,
 "nbformat_minor": 5
}
