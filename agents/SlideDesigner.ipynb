{
 "cells": [
  {
   "cell_type": "code",
   "execution_count": 15,
   "id": "75bb5913",
   "metadata": {},
   "outputs": [],
   "source": [
    "from typing import Annotated, Sequence, TypedDict, List, Dict\n",
    "from dotenv import load_dotenv  \n",
    "from langchain_core.messages import BaseMessage, HumanMessage, AIMessage, ToolMessage, SystemMessage\n",
    "from langchain_groq import ChatGroq\n",
    "from langchain_core.tools import tool\n",
    "from langgraph.graph.message import add_messages\n",
    "from langgraph.graph import StateGraph, END, START\n",
    "from langgraph.prebuilt import ToolNode\n",
    "import os"
   ]
  },
  {
   "cell_type": "code",
   "execution_count": 16,
   "id": "af0630d7",
   "metadata": {},
   "outputs": [],
   "source": [
    "load_dotenv()\n",
    "GROQ_API_KEY=os.getenv(\"GROQ_API_KEY\")\n",
    "os.environ[\"GROQ_API_KEY\"]= GROQ_API_KEY"
   ]
  },
  {
   "cell_type": "code",
   "execution_count": 17,
   "id": "5a608b7e",
   "metadata": {},
   "outputs": [],
   "source": [
    "llm = ChatGroq(model=\"llama-3.1-8b-instant\")"
   ]
  },
  {
   "cell_type": "code",
   "execution_count": 18,
   "id": "5cc86cdb",
   "metadata": {},
   "outputs": [],
   "source": [
    "class AgentState(TypedDict):\n",
    "    messages: Annotated[Sequence[BaseMessage], add_messages]\n",
    "    subtopic: List[str]\n",
    "    slide_segments: List[Dict[str, str]]\n",
    "    ppt_output_path: str"
   ]
  },
  {
   "cell_type": "code",
   "execution_count": 19,
   "id": "29f7831d",
   "metadata": {},
   "outputs": [
    {
     "name": "stdout",
     "output_type": "stream",
     "text": [
      "{'messages': [], 'subtopic': ['1. Rate of Reaction', '2. Reaction Mechanisms', '3. Catalysts and Inhibitors', '4. Temperature Effects', '5. Activation Energy', '6. Order of Reaction', '7. Molecularity'], 'slide_segments': [{'slide_no': 1, 'subtopic': '1. Rate of Reaction', 'content_to_display': '1. The rate of reaction refers to the speed at which reactants are converted into products.\\n2. The rate of reaction can be affected by various factors including the nature of the reaction, the physical state of reactants, concentration, pressure, temperature, and the presence of a solvent or electromagnetic radiation.\\n3. The rate of reaction can be increased by increasing the concentration of reactants, applying pressure, increasing temperature, and exposing the reactants to electromagnetic radiation.', 'narration_script': 'The rate of reaction is the speed at which reactants are converted into products. For example, when you burn wood, the rate of reaction is very fast because the wood is completely consumed in just a few seconds. On the other hand, rusting of iron is a very slow process which is why it takes years for iron to completely rust.\\n\\nNow, you might be wondering what affects the rate of reaction. Well, there are several factors that can influence it. The nature of the reaction itself plays a big role. Some reactions are naturally faster than others while some are very slow. This is why different reactions have varying rates of reaction. The physical state of the reactants is also important. Generally speaking, reactions involving gases are faster than those involving liquids or solids.', 'is_blank_slide': False, 'image_address': '', 'video_address': '', 'image_position': '', 'content_position': ''}, {'slide_no': 2, 'subtopic': '1. Rate of Reaction', 'content_to_display': \"2. Concentration is another factor that affects the rate of reaction. According to the collision theory, the rate of reaction increases with the increase in concentration of the reactants. \\n3. Pressure also plays a role in the rate of reaction. When we increase the pressure of a gas, we increase the concentration of the gas molecules. \\n4. Temperature is another critical factor that affects the rate of reaction. According to the collision theory, a chemical reaction that takes place at a higher temperature generates more energy than a reaction at a lower temperature.\\n5. The properties of the solvent and its ionic strength can both affect the rate of reaction. For example, a solvent with a high dielectric constant can help to stabilize charged particles, leading to a faster reaction.\\n6. Finally, let's not forget about the order of reaction. This refers to how the reactant pressure or concentration affects the rate of reaction.\", 'narration_script': 'According to the collision theory, the rate of reaction increases with the increase in concentration of the reactants. This is because when there are more particles in a given space, they are more likely to collide with each other, resulting in a faster reaction. \\n\\nPressure also plays a role in the rate of reaction. When we increase the pressure of a gas, we increase the concentration of the gas molecules. This results in more collisions between the particles, leading to a faster reaction. Temperature is another critical factor that affects the rate of reaction. According to the collision theory, a chemical reaction that takes place at a higher temperature generates more energy than a reaction at a lower temperature. This is because the particles have enough energy to overcome the activation energy barrier and react with each other.\\n\\nThe order of reaction is also an important concept to understand the rate of reaction. It refers to how the reactant pressure or concentration affects the rate of reaction. Understanding the order of reaction is important for predicting the rate of reaction under different conditions.', 'is_blank_slide': False, 'image_address': '', 'video_address': '', 'image_position': '', 'content_position': ''}, {'slide_no': 3, 'subtopic': '2. Reaction Mechanisms', 'content_to_display': '1. In an addition-elimination reaction of tri-n-butyltin radical with a nitro compound, the first step is the addition of the radical to one of the oxygen atoms in the nitro group.', 'narration_script': \"Welcome to our discussion on reaction mechanisms. A reaction mechanism is the step-by-step explanation of how a chemical reaction occurs. It's like a recipe for a chemist, where each step is a crucial ingredient that contributes to the final outcome. Let's consider the reaction of tri-n-butyltin radical with a nitro compound. In this reaction, the first step is the addition of the radical to one of the oxygen atoms in the nitro group. This is an example of an addition-elimination reaction, where the radical adds to the oxygen atom and forms a new bond.\", 'is_blank_slide': False, 'image_address': '', 'video_address': '', 'image_position': '', 'content_position': ''}, {'slide_no': 4, 'subtopic': '2. Reaction Mechanisms', 'content_to_display': '2. The reaction mechanism for c-nitro compounds involves more varied possibilities after the initial addition, including breaking the C-N bond, cleaving an O-N bond to form a nitroso compound, or abstracting a hydrogen atom from an available donor. 3. Electron transfer between the tri-n-butyltin radical and a c-nitro compound is endothermic by at least 12 kcal/mol, making it inconsistent with the large rate constant observed for the reaction.', 'narration_script': \"But what happens next depends on the type of nitro compound involved. If it's a c-nitro compound, things get more complicated. The adduct radical can undergo different types of reactions, such as breaking the C-N bond, cleaving an O-N bond to form a nitroso compound, or abstracting a hydrogen atom from an available donor. However, electron transfer between the tri-n-butyltin radical and a c-nitro compound has been ruled out due to its endothermic nature, which is inconsistent with the observed rate constant for the reaction. This means that we need to be careful when interpreting the results of chemical reactions and consider the possibility of multiple pathways and mechanisms.\", 'is_blank_slide': False, 'image_address': '', 'video_address': '', 'image_position': '', 'content_position': ''}, {'slide_no': 5, 'subtopic': '3. Catalysts and Inhibitors', 'content_to_display': '1. A catalyst is a chemical compound that can increase the rate of a reaction without itself being consumed, and it can continue to act repeatedly.\\n            2. A catalyst can reduce the activation energy of a reaction.', 'narration_script': \"Hello everyone, welcome back to our channel today we're going to talk about something really cool in chemistry, something that can speed up reactions, and that's the world of catalysts. So first, let's start with catalysts. These are chemical compounds that can increase the rate of a reaction without being consumed, which means they can continue to act repeatedly. It's like having a superpower that helps reactions happen faster. And the best part is, only a small amount of catalyst is required for a certain chemical reaction.\\n\\nTo understand how catalysts work, let's dive deeper. They provide an alternative pathway for a chemical reaction by reducing the activation energy of a reaction. Think of it like a shortcut that helps the reactants get to the product faster. And the catalyst combines with the reactant to create an intermediate product, and after the completion of the required reaction, the catalyst leaves the intermediate and regenerates.\", 'is_blank_slide': False, 'image_address': '', 'video_address': '', 'image_position': '', 'content_position': ''}, {'slide_no': 6, 'subtopic': '3. Catalysts and Inhibitors', 'content_to_display': '3. Catalysts and inhibitors participate in chemical reactions but are not consumed, and they show opposite activity in biological and chemical systems.\\n            2. An inhibitor is a chemical compound that can either stop or decrease the reaction rate of a chemical reaction, and it can reduce the activity of a catalyst as well.', 'narration_script': \"Now, let's talk about inhibitors. These are chemical compounds that can either stop or decrease the reaction rate of a chemical reaction. They're like the opposite of catalysts, but instead of speeding up reactions, they slow them down. And the interesting thing is, inhibitors can reduce the activity of a catalyst as well, which means they can make it harder for catalysts to work.\\n\\nUnlike catalysts, inhibitors don't provide a reaction pathway to reduce the activation energy. Instead, they deactivate the catalyst or remove reaction intermediates. It's like putting a roadblock in the way of the reaction, making it harder for the reactants to get to the product. So, to summarize, catalysts and inhibitors show opposite activity in chemical systems, participating in reactions but not being consumed.\", 'is_blank_slide': False, 'image_address': '', 'video_address': '', 'image_position': '', 'content_position': ''}, {'slide_no': 7, 'subtopic': '4. Temperature Effects', 'content_to_display': '1. Rising temperatures are causing global warming, which is significantly affecting communities, health, and climate. \\n       2. The Earth is experiencing a steady increase in thermometer readings since the industrial revolution, leading to extreme weather, longer wildfire seasons, and frequent heat waves.\\n       3. The rise in sea levels and increased risk of coastal flooding are also consequences of rising temperatures.', 'narration_script': \"Hello everyone, welcome back to our channel. Today we're going to talk about the effects of temperature on our planet. Temperature is a measure of heat, and it's not just a number on a thermometer, it's a crucial factor that affects our daily lives, our climate, and our planet as a whole.\\n\\nBut let's get back to the effects of rising temperatures. Unfortunately, our planet is experiencing a steady increase in global temperatures since the industrial revolution. This is causing extreme weather events, longer wildfire seasons, and frequent heat waves. The consequences of rising temperatures are far-reaching, from affecting our communities and health to changing our climate.\\n\\nOne of the most alarming effects of rising temperatures is the rise in sea levels and increased risk of coastal flooding. As the polar ice caps melt, sea levels are rising, threatening the livelihoods of millions of people who live in coastal areas.\", 'is_blank_slide': False, 'image_address': '', 'video_address': '', 'image_position': '', 'content_position': ''}, {'slide_no': 8, 'subtopic': '4. Temperature Effects', 'content_to_display': 'BLANK_SLIDE', 'narration_script': \"So, what can we do to mitigate the effects of rising temperatures? The answer is simple: we need to take immediate action to reduce global warming. We can do this by reducing our carbon footprint, investing in renewable energy sources, and promoting sustainable practices.\\n\\nIn conclusion, temperature is a vital factor that affects our planet in many ways. It's not just a number on a thermometer, it's a measure of the energy of motion, and it's crucial that we understand its effects and take action to mitigate them. Thank you for watching, and we'll see you in the next video.\", 'is_blank_slide': True, 'image_address': '', 'video_address': '', 'image_position': '', 'content_position': ''}, {'slide_no': 9, 'subtopic': '5. Activation Energy', 'content_to_display': '1. Activation energy is the minimum amount of energy that must be provided for compounds to result in a chemical reaction.\\n2. Activation energy can be thought of as the magnitude of the potential barrier separating minima of the potential energy surface pertaining to the initial and final thermodynamic state.', 'narration_script': \"Imagine you're standing in a park on a cold winter day, watching the fireworks explode in the sky. Those colorful displays are a result of chemical reactions that require a certain amount of energy to occur. That's where activation energy comes in. \\n\\nYou see, it's the minimum amount of energy that must be provided for compounds to result in a chemical reaction. Think of it like a barrier that needs to be overcome for the reaction to happen. In the case of fireworks, the energy from the fuse and the heat from the explosion provide the activation energy needed for the colored chemicals to mix and create the beautiful display. This barrier is actually the magnitude of the potential barrier separating minima of the potential energy surface pertaining to the initial and final thermodynamic state. It represents the height of the 'hill' that reactant particles need to climb in order to reach the final state and initiate a chemical reaction.\", 'is_blank_slide': False, 'image_address': '', 'video_address': '', 'image_position': '', 'content_position': ''}, {'slide_no': 10, 'subtopic': '5. Activation Energy', 'content_to_display': '3. The Arrhenius equation gives the quantitative basis of the relationship between the activation energy and the rate at which a reaction proceeds.', 'narration_script': \"But why do some reactions need more energy than others? Well, it's all about the bonds between the atoms. When we supply reactant particles with energy, their bonds start to vibrate more and more. This increase in vibrational energy makes it more likely for the bonds to break and the reaction to occur.\\n\\nThe Arrhenius equation gives us a way to understand the relationship between activation energy and the rate at which a reaction proceeds. It's a mathematical formula that helps us figure out how much energy a reaction needs to happen at a certain temperature. So, activation energy is like a key that unlocks the potential for chemical reactions to occur. It's a crucial concept in chemistry that helps us understand how different reactions work and how we can control them. And next time you watch fireworks exploding in the sky, remember that it's all about the activation energy that makes it happen.\", 'is_blank_slide': False, 'image_address': '', 'video_address': '', 'image_position': '', 'content_position': ''}, {'slide_no': 11, 'subtopic': '6. Order of Reaction', 'content_to_display': '1. The order of reaction refers to the relationship between the rate of a chemical reaction and the concentration of the species taking part in it.\\n          2. The reaction order represents the number of species whose concentration directly affects the rate of reaction.\\n          3. The order of reaction can have a value of zero, and it can be in the form of an integer or a fraction.', 'narration_script': \"Welcome back to our chemistry series, where we're exploring the fascinating world of chemical reactions. Today, we're going to talk about something really important, but often overlooked, the order of reaction. So, what is it, and why do we need to know about it?\\n\\nWell, let's start with the basics. The order of reaction refers to the relationship between the rate of a chemical reaction and the concentration of the species taking part in it. This means that if we know the order of reaction, we can understand how the concentration of each reactant affects the rate of the reaction. And this is crucial in predicting how a reaction will behave under different conditions.\\n\\nThe reaction order also represents the number of species whose concentration directly affects the rate of reaction. In other words, it's the number of variables that we need to consider when analyzing a chemical reaction. For example, if a reaction has a reaction order of 2, it means that the rate of the reaction depends on the concentrations of two reactants.\\n\\nIt's also important to note that the order of reaction can have a value of zero, which means that the rate of the reaction is independent of the concentration of the reactants. On the other hand, the order of reaction can be a positive integer or a fraction, which means that the rate of the reaction depends on the concentration of one or more reactants.\", 'is_blank_slide': False, 'image_address': '', 'video_address': '', 'image_position': '', 'content_position': ''}, {'slide_no': 12, 'subtopic': '6. Order of Reaction', 'content_to_display': '1. The reaction order represents the number of species whose concentration directly affects the rate of reaction.\\n          2. The order of reaction can have a value of zero, and it can be in the form of an integer or a fraction.\\n          3. The initial rates method involves measuring the initial rate of a reaction at different concentrations of each reactant.\\n          4. The differential method is the easiest way to obtain the order of reaction.', 'narration_script': \"Now, you might be wondering, how do we determine the order of reaction? Well, there are several methods, but the most common ones are the initial rates method, the integral method, and the differential method. Let's take a closer look at each of these methods.\\n\\nThe initial rates method involves measuring the initial rate of a reaction at different concentrations of each reactant. By plotting a graph of the natural logarithm of the rate against the natural logarithm of the concentration, we can determine the partial order of each reactant. And the partial order is essentially the exponent of the concentration term in the rate equation.\\n\\nThe differential method is the easiest way to obtain the order of reaction. All we need to do is write the rate expression of the reaction and add up the exponents of the concentration terms. This will give us the final value of the reaction order.\\n\\nIt's also worth noting that when we talk about the order of reaction, we're not just talking about a single value. We're talking about a set of values that represent the number of species whose concentration directly affects the rate of reaction. And this set of values can be zero, a positive integer, or a fraction, depending on the specific reaction we're analyzing.\", 'is_blank_slide': False, 'image_address': '', 'video_address': '', 'image_position': '', 'content_position': ''}, {'slide_no': 13, 'subtopic': '7. Molecularity', 'content_to_display': '1. Molecularity is the number of molecules that come together to react in an elementary reaction.\\n2. The kinetic order of an elementary reaction or reaction step is equal to its molecularity.', 'narration_script': \"Hello and welcome to our channel, where we're excited to share our knowledge with you on various chemistry topics. Today, we're going to talk about molecularity, a fundamental concept in chemical kinetics.\\n\\nSo, what is molecularity? Molecularity is the number of molecules that come together to react in an elementary reaction. This means that when we talk about molecularity, we're talking about the number of molecules involved in a single step reaction. Molecularity is a very important concept in understanding how reactions occur.\\n\\nNow, let's talk about the kinetic order of a reaction. The kinetic order of a reaction is related to its molecularity. The kinetic order of an elementary reaction or reaction step is equal to its molecularity. This is a very important concept, because it helps us understand how reactions occur.\", 'is_blank_slide': False, 'image_address': '', 'video_address': '', 'image_position': '', 'content_position': ''}, {'slide_no': 14, 'subtopic': '7. Molecularity', 'content_to_display': '1. Molecularity is only useful to describe elementary reactions or steps.', 'narration_script': \"But here's the thing: molecularity is only useful to describe elementary reactions or steps. When we have complex reactions, with multiple steps, molecularity isn't enough to describe the reaction. We need to look at the entire mechanism, not just the molecularity of each step. So, to summarize, molecularity is the number of molecules involved in an elementary reaction, and it's related to the kinetic order of the reaction. It's a fundamental concept in chemical kinetics, and it's essential to understand it if you want to grasp the underlying mechanisms of chemical reactions.\\n\\nBLANK_SLIDE\", 'is_blank_slide': False, 'image_address': '', 'video_address': '', 'image_position': '', 'content_position': ''}]}\n"
     ]
    }
   ],
   "source": [
    "import json\n",
    "from typing import List, Dict, TypedDict, Sequence, Annotated\n",
    "\n",
    "def load_json_to_agent_state(json_path: str) -> AgentState:\n",
    "    with open(json_path, 'r', encoding='utf-8') as f:\n",
    "        data = json.load(f)\n",
    "\n",
    "    # Ensure all slide segments have the necessary fields\n",
    "    complete_slide_segments = []\n",
    "    for slide in data.get('slide_segments', []):\n",
    "        complete_slide = {\n",
    "            \"slide_no\": slide.get(\"slide_no\", 0),\n",
    "            \"subtopic\": slide.get(\"subtopic\", \"\"),\n",
    "            \"content_to_display\": slide.get(\"content_to_display\", \"\"),\n",
    "            \"narration_script\": slide.get(\"narration_script\", \"\"),\n",
    "            \"is_blank_slide\": slide.get(\"is_blank_slide\", False),\n",
    "            \"image_address\": slide.get(\"image_address\", \"\"),\n",
    "            \"video_address\": slide.get(\"video_address\", \"\"),\n",
    "            \"image_position\": slide.get(\"image_position\", \"\"),\n",
    "            \"content_position\": slide.get(\"test_position\", \"\")  # mapping test_position to content_position\n",
    "        }\n",
    "        complete_slide_segments.append(complete_slide)\n",
    "\n",
    "    agent_state: AgentState = {\n",
    "        \"messages\": [],\n",
    "        \"subtopic\": data.get('subtopics', []),\n",
    "        \"slide_segments\": complete_slide_segments\n",
    "    }\n",
    "\n",
    "    return agent_state\n",
    "\n",
    "\n",
    "# Example usage\n",
    "json_path = '../assets/scripts/slide_segments.json'\n",
    "agent_state = load_json_to_agent_state(json_path)\n",
    "print(agent_state)\n"
   ]
  },
  {
   "cell_type": "code",
   "execution_count": 20,
   "id": "06d578d6",
   "metadata": {},
   "outputs": [],
   "source": [
    "import requests\n",
    "\n",
    "PEXELS_API_KEY = 'mIZdthiPsT6hrIGHcGTOgwH61Q4UvepeUP3o9sU9GUqXm1HVhqas1fQQ'\n",
    "PEXELS_API_URL = 'https://api.pexels.com/v1/search'\n",
    "\n",
    "\n",
    "def get_relevant_image(query: str, per_page: int = 1) -> str:\n",
    "    headers = {\n",
    "        'Authorization': PEXELS_API_KEY\n",
    "    }\n",
    "    params = {\n",
    "        'query': query,\n",
    "        'per_page': per_page\n",
    "    }\n",
    "\n",
    "    response = requests.get(PEXELS_API_URL, headers=headers, params=params)\n",
    "\n",
    "    if response.status_code == 200:\n",
    "        data = response.json()\n",
    "        if data['photos']:\n",
    "            # Get the first photo's large image URL\n",
    "            return data['photos'][0]['src']['large']\n",
    "        else:\n",
    "            print(\"No images found for query:\", query)\n",
    "            return \"\"\n",
    "    else:\n",
    "        print(f\"Error {response.status_code}: {response.text}\")\n",
    "        return \"\"\n",
    "\n",
    "\n",
    "import requests\n",
    "\n",
    "PEXELS_API_KEY = 'mIZdthiPsT6hrIGHcGTOgwH61Q4UvepeUP3o9sU9GUqXm1HVhqas1fQQ'\n",
    "PEXELS_VIDEO_API_URL = 'https://api.pexels.com/videos/search'\n",
    "\n",
    "\n",
    "def get_relevant_video(query: str, per_page: int = 1) -> str:\n",
    "    headers = {\n",
    "        'Authorization': PEXELS_API_KEY\n",
    "    }\n",
    "    params = {\n",
    "        'query': query,\n",
    "        'per_page': per_page\n",
    "    }\n",
    "\n",
    "    response = requests.get(PEXELS_VIDEO_API_URL, headers=headers, params=params)\n",
    "\n",
    "    if response.status_code == 200:\n",
    "        data = response.json()\n",
    "        if data['videos']:\n",
    "            # Get the first video's link (e.g., highest quality or medium)\n",
    "            return data['videos'][0]['video_files'][0]['link']\n",
    "        else:\n",
    "            print(\"No videos found for query:\", query)\n",
    "            return \"\"\n",
    "    else:\n",
    "        print(f\"Error {response.status_code}: {response.text}\")\n",
    "        return \"\"\n"
   ]
  },
  {
   "cell_type": "code",
   "execution_count": 21,
   "id": "e942e7ae",
   "metadata": {},
   "outputs": [],
   "source": [
    "def enrich_all_slides_with_media(agent_state: dict) -> dict:\n",
    "    \"\"\"\n",
    "    Enriches all slide segments in the agent_state with images or videos\n",
    "    from Pexels based on whether the slide is blank or has content.\n",
    "    \"\"\"\n",
    "\n",
    "    enriched_segments = []\n",
    "\n",
    "    for slide in agent_state.get('slide_segments', []):\n",
    "        content = slide.get('content_to_display', \"\")\n",
    "        is_blank = slide.get('is_blank_slide', False)\n",
    "\n",
    "        if is_blank:\n",
    "            video_url = get_relevant_video(content)\n",
    "            slide['video_address'] = video_url\n",
    "            slide['image_address'] = \"\"\n",
    "            slide['image_position'] = \"\"\n",
    "            slide['content_position'] = \"center\"\n",
    "        else:\n",
    "            image_url = get_relevant_image(content)\n",
    "            slide['image_address'] = image_url\n",
    "            slide['video_address'] = \"\"\n",
    "            slide['image_position'] = \"right\"\n",
    "            slide['content_position'] = \"left\"\n",
    "\n",
    "        enriched_segments.append(slide)\n",
    "\n",
    "    # Update agent_state\n",
    "    agent_state['slide_segments'] = enriched_segments\n",
    "    return agent_state\n"
   ]
  },
  {
   "cell_type": "code",
   "execution_count": 22,
   "id": "758bc9f4",
   "metadata": {},
   "outputs": [
    {
     "name": "stdout",
     "output_type": "stream",
     "text": [
      "No videos found for query: BLANK_SLIDE\n",
      "{'messages': [], 'subtopic': ['1. Rate of Reaction', '2. Reaction Mechanisms', '3. Catalysts and Inhibitors', '4. Temperature Effects', '5. Activation Energy', '6. Order of Reaction', '7. Molecularity'], 'slide_segments': [{'slide_no': 1, 'subtopic': '1. Rate of Reaction', 'content_to_display': '1. The rate of reaction refers to the speed at which reactants are converted into products.\\n2. The rate of reaction can be affected by various factors including the nature of the reaction, the physical state of reactants, concentration, pressure, temperature, and the presence of a solvent or electromagnetic radiation.\\n3. The rate of reaction can be increased by increasing the concentration of reactants, applying pressure, increasing temperature, and exposing the reactants to electromagnetic radiation.', 'narration_script': 'The rate of reaction is the speed at which reactants are converted into products. For example, when you burn wood, the rate of reaction is very fast because the wood is completely consumed in just a few seconds. On the other hand, rusting of iron is a very slow process which is why it takes years for iron to completely rust.\\n\\nNow, you might be wondering what affects the rate of reaction. Well, there are several factors that can influence it. The nature of the reaction itself plays a big role. Some reactions are naturally faster than others while some are very slow. This is why different reactions have varying rates of reaction. The physical state of the reactants is also important. Generally speaking, reactions involving gases are faster than those involving liquids or solids.', 'is_blank_slide': False, 'image_address': 'https://images.pexels.com/photos/6005053/pexels-photo-6005053.jpeg?auto=compress&cs=tinysrgb&h=650&w=940', 'video_address': '', 'image_position': 'right', 'content_position': 'left'}, {'slide_no': 2, 'subtopic': '1. Rate of Reaction', 'content_to_display': \"2. Concentration is another factor that affects the rate of reaction. According to the collision theory, the rate of reaction increases with the increase in concentration of the reactants. \\n3. Pressure also plays a role in the rate of reaction. When we increase the pressure of a gas, we increase the concentration of the gas molecules. \\n4. Temperature is another critical factor that affects the rate of reaction. According to the collision theory, a chemical reaction that takes place at a higher temperature generates more energy than a reaction at a lower temperature.\\n5. The properties of the solvent and its ionic strength can both affect the rate of reaction. For example, a solvent with a high dielectric constant can help to stabilize charged particles, leading to a faster reaction.\\n6. Finally, let's not forget about the order of reaction. This refers to how the reactant pressure or concentration affects the rate of reaction.\", 'narration_script': 'According to the collision theory, the rate of reaction increases with the increase in concentration of the reactants. This is because when there are more particles in a given space, they are more likely to collide with each other, resulting in a faster reaction. \\n\\nPressure also plays a role in the rate of reaction. When we increase the pressure of a gas, we increase the concentration of the gas molecules. This results in more collisions between the particles, leading to a faster reaction. Temperature is another critical factor that affects the rate of reaction. According to the collision theory, a chemical reaction that takes place at a higher temperature generates more energy than a reaction at a lower temperature. This is because the particles have enough energy to overcome the activation energy barrier and react with each other.\\n\\nThe order of reaction is also an important concept to understand the rate of reaction. It refers to how the reactant pressure or concentration affects the rate of reaction. Understanding the order of reaction is important for predicting the rate of reaction under different conditions.', 'is_blank_slide': False, 'image_address': 'https://images.pexels.com/photos/5712770/pexels-photo-5712770.jpeg?auto=compress&cs=tinysrgb&h=650&w=940', 'video_address': '', 'image_position': 'right', 'content_position': 'left'}, {'slide_no': 3, 'subtopic': '2. Reaction Mechanisms', 'content_to_display': '1. In an addition-elimination reaction of tri-n-butyltin radical with a nitro compound, the first step is the addition of the radical to one of the oxygen atoms in the nitro group.', 'narration_script': \"Welcome to our discussion on reaction mechanisms. A reaction mechanism is the step-by-step explanation of how a chemical reaction occurs. It's like a recipe for a chemist, where each step is a crucial ingredient that contributes to the final outcome. Let's consider the reaction of tri-n-butyltin radical with a nitro compound. In this reaction, the first step is the addition of the radical to one of the oxygen atoms in the nitro group. This is an example of an addition-elimination reaction, where the radical adds to the oxygen atom and forms a new bond.\", 'is_blank_slide': False, 'image_address': 'https://images.pexels.com/photos/6931384/pexels-photo-6931384.jpeg?auto=compress&cs=tinysrgb&h=650&w=940', 'video_address': '', 'image_position': 'right', 'content_position': 'left'}, {'slide_no': 4, 'subtopic': '2. Reaction Mechanisms', 'content_to_display': '2. The reaction mechanism for c-nitro compounds involves more varied possibilities after the initial addition, including breaking the C-N bond, cleaving an O-N bond to form a nitroso compound, or abstracting a hydrogen atom from an available donor. 3. Electron transfer between the tri-n-butyltin radical and a c-nitro compound is endothermic by at least 12 kcal/mol, making it inconsistent with the large rate constant observed for the reaction.', 'narration_script': \"But what happens next depends on the type of nitro compound involved. If it's a c-nitro compound, things get more complicated. The adduct radical can undergo different types of reactions, such as breaking the C-N bond, cleaving an O-N bond to form a nitroso compound, or abstracting a hydrogen atom from an available donor. However, electron transfer between the tri-n-butyltin radical and a c-nitro compound has been ruled out due to its endothermic nature, which is inconsistent with the observed rate constant for the reaction. This means that we need to be careful when interpreting the results of chemical reactions and consider the possibility of multiple pathways and mechanisms.\", 'is_blank_slide': False, 'image_address': 'https://images.pexels.com/photos/5207348/pexels-photo-5207348.jpeg?auto=compress&cs=tinysrgb&h=650&w=940', 'video_address': '', 'image_position': 'right', 'content_position': 'left'}, {'slide_no': 5, 'subtopic': '3. Catalysts and Inhibitors', 'content_to_display': '1. A catalyst is a chemical compound that can increase the rate of a reaction without itself being consumed, and it can continue to act repeatedly.\\n            2. A catalyst can reduce the activation energy of a reaction.', 'narration_script': \"Hello everyone, welcome back to our channel today we're going to talk about something really cool in chemistry, something that can speed up reactions, and that's the world of catalysts. So first, let's start with catalysts. These are chemical compounds that can increase the rate of a reaction without being consumed, which means they can continue to act repeatedly. It's like having a superpower that helps reactions happen faster. And the best part is, only a small amount of catalyst is required for a certain chemical reaction.\\n\\nTo understand how catalysts work, let's dive deeper. They provide an alternative pathway for a chemical reaction by reducing the activation energy of a reaction. Think of it like a shortcut that helps the reactants get to the product faster. And the catalyst combines with the reactant to create an intermediate product, and after the completion of the required reaction, the catalyst leaves the intermediate and regenerates.\", 'is_blank_slide': False, 'image_address': 'https://images.pexels.com/photos/10187665/pexels-photo-10187665.jpeg?auto=compress&cs=tinysrgb&h=650&w=940', 'video_address': '', 'image_position': 'right', 'content_position': 'left'}, {'slide_no': 6, 'subtopic': '3. Catalysts and Inhibitors', 'content_to_display': '3. Catalysts and inhibitors participate in chemical reactions but are not consumed, and they show opposite activity in biological and chemical systems.\\n            2. An inhibitor is a chemical compound that can either stop or decrease the reaction rate of a chemical reaction, and it can reduce the activity of a catalyst as well.', 'narration_script': \"Now, let's talk about inhibitors. These are chemical compounds that can either stop or decrease the reaction rate of a chemical reaction. They're like the opposite of catalysts, but instead of speeding up reactions, they slow them down. And the interesting thing is, inhibitors can reduce the activity of a catalyst as well, which means they can make it harder for catalysts to work.\\n\\nUnlike catalysts, inhibitors don't provide a reaction pathway to reduce the activation energy. Instead, they deactivate the catalyst or remove reaction intermediates. It's like putting a roadblock in the way of the reaction, making it harder for the reactants to get to the product. So, to summarize, catalysts and inhibitors show opposite activity in chemical systems, participating in reactions but not being consumed.\", 'is_blank_slide': False, 'image_address': 'https://images.pexels.com/photos/10187665/pexels-photo-10187665.jpeg?auto=compress&cs=tinysrgb&h=650&w=940', 'video_address': '', 'image_position': 'right', 'content_position': 'left'}, {'slide_no': 7, 'subtopic': '4. Temperature Effects', 'content_to_display': '1. Rising temperatures are causing global warming, which is significantly affecting communities, health, and climate. \\n       2. The Earth is experiencing a steady increase in thermometer readings since the industrial revolution, leading to extreme weather, longer wildfire seasons, and frequent heat waves.\\n       3. The rise in sea levels and increased risk of coastal flooding are also consequences of rising temperatures.', 'narration_script': \"Hello everyone, welcome back to our channel. Today we're going to talk about the effects of temperature on our planet. Temperature is a measure of heat, and it's not just a number on a thermometer, it's a crucial factor that affects our daily lives, our climate, and our planet as a whole.\\n\\nBut let's get back to the effects of rising temperatures. Unfortunately, our planet is experiencing a steady increase in global temperatures since the industrial revolution. This is causing extreme weather events, longer wildfire seasons, and frequent heat waves. The consequences of rising temperatures are far-reaching, from affecting our communities and health to changing our climate.\\n\\nOne of the most alarming effects of rising temperatures is the rise in sea levels and increased risk of coastal flooding. As the polar ice caps melt, sea levels are rising, threatening the livelihoods of millions of people who live in coastal areas.\", 'is_blank_slide': False, 'image_address': 'https://images.pexels.com/photos/51951/forest-fire-fire-smoke-conservation-51951.jpeg?auto=compress&cs=tinysrgb&h=650&w=940', 'video_address': '', 'image_position': 'right', 'content_position': 'left'}, {'slide_no': 8, 'subtopic': '4. Temperature Effects', 'content_to_display': 'BLANK_SLIDE', 'narration_script': \"So, what can we do to mitigate the effects of rising temperatures? The answer is simple: we need to take immediate action to reduce global warming. We can do this by reducing our carbon footprint, investing in renewable energy sources, and promoting sustainable practices.\\n\\nIn conclusion, temperature is a vital factor that affects our planet in many ways. It's not just a number on a thermometer, it's a measure of the energy of motion, and it's crucial that we understand its effects and take action to mitigate them. Thank you for watching, and we'll see you in the next video.\", 'is_blank_slide': True, 'image_address': '', 'video_address': '', 'image_position': '', 'content_position': 'center'}, {'slide_no': 9, 'subtopic': '5. Activation Energy', 'content_to_display': '1. Activation energy is the minimum amount of energy that must be provided for compounds to result in a chemical reaction.\\n2. Activation energy can be thought of as the magnitude of the potential barrier separating minima of the potential energy surface pertaining to the initial and final thermodynamic state.', 'narration_script': \"Imagine you're standing in a park on a cold winter day, watching the fireworks explode in the sky. Those colorful displays are a result of chemical reactions that require a certain amount of energy to occur. That's where activation energy comes in. \\n\\nYou see, it's the minimum amount of energy that must be provided for compounds to result in a chemical reaction. Think of it like a barrier that needs to be overcome for the reaction to happen. In the case of fireworks, the energy from the fuse and the heat from the explosion provide the activation energy needed for the colored chemicals to mix and create the beautiful display. This barrier is actually the magnitude of the potential barrier separating minima of the potential energy surface pertaining to the initial and final thermodynamic state. It represents the height of the 'hill' that reactant particles need to climb in order to reach the final state and initiate a chemical reaction.\", 'is_blank_slide': False, 'image_address': 'https://images.pexels.com/photos/6253169/pexels-photo-6253169.jpeg?auto=compress&cs=tinysrgb&h=650&w=940', 'video_address': '', 'image_position': 'right', 'content_position': 'left'}, {'slide_no': 10, 'subtopic': '5. Activation Energy', 'content_to_display': '3. The Arrhenius equation gives the quantitative basis of the relationship between the activation energy and the rate at which a reaction proceeds.', 'narration_script': \"But why do some reactions need more energy than others? Well, it's all about the bonds between the atoms. When we supply reactant particles with energy, their bonds start to vibrate more and more. This increase in vibrational energy makes it more likely for the bonds to break and the reaction to occur.\\n\\nThe Arrhenius equation gives us a way to understand the relationship between activation energy and the rate at which a reaction proceeds. It's a mathematical formula that helps us figure out how much energy a reaction needs to happen at a certain temperature. So, activation energy is like a key that unlocks the potential for chemical reactions to occur. It's a crucial concept in chemistry that helps us understand how different reactions work and how we can control them. And next time you watch fireworks exploding in the sky, remember that it's all about the activation energy that makes it happen.\", 'is_blank_slide': False, 'image_address': 'https://images.pexels.com/photos/6931379/pexels-photo-6931379.jpeg?auto=compress&cs=tinysrgb&h=650&w=940', 'video_address': '', 'image_position': 'right', 'content_position': 'left'}, {'slide_no': 11, 'subtopic': '6. Order of Reaction', 'content_to_display': '1. The order of reaction refers to the relationship between the rate of a chemical reaction and the concentration of the species taking part in it.\\n          2. The reaction order represents the number of species whose concentration directly affects the rate of reaction.\\n          3. The order of reaction can have a value of zero, and it can be in the form of an integer or a fraction.', 'narration_script': \"Welcome back to our chemistry series, where we're exploring the fascinating world of chemical reactions. Today, we're going to talk about something really important, but often overlooked, the order of reaction. So, what is it, and why do we need to know about it?\\n\\nWell, let's start with the basics. The order of reaction refers to the relationship between the rate of a chemical reaction and the concentration of the species taking part in it. This means that if we know the order of reaction, we can understand how the concentration of each reactant affects the rate of the reaction. And this is crucial in predicting how a reaction will behave under different conditions.\\n\\nThe reaction order also represents the number of species whose concentration directly affects the rate of reaction. In other words, it's the number of variables that we need to consider when analyzing a chemical reaction. For example, if a reaction has a reaction order of 2, it means that the rate of the reaction depends on the concentrations of two reactants.\\n\\nIt's also important to note that the order of reaction can have a value of zero, which means that the rate of the reaction is independent of the concentration of the reactants. On the other hand, the order of reaction can be a positive integer or a fraction, which means that the rate of the reaction depends on the concentration of one or more reactants.\", 'is_blank_slide': False, 'image_address': 'https://images.pexels.com/photos/9760552/pexels-photo-9760552.jpeg?auto=compress&cs=tinysrgb&h=650&w=940', 'video_address': '', 'image_position': 'right', 'content_position': 'left'}, {'slide_no': 12, 'subtopic': '6. Order of Reaction', 'content_to_display': '1. The reaction order represents the number of species whose concentration directly affects the rate of reaction.\\n          2. The order of reaction can have a value of zero, and it can be in the form of an integer or a fraction.\\n          3. The initial rates method involves measuring the initial rate of a reaction at different concentrations of each reactant.\\n          4. The differential method is the easiest way to obtain the order of reaction.', 'narration_script': \"Now, you might be wondering, how do we determine the order of reaction? Well, there are several methods, but the most common ones are the initial rates method, the integral method, and the differential method. Let's take a closer look at each of these methods.\\n\\nThe initial rates method involves measuring the initial rate of a reaction at different concentrations of each reactant. By plotting a graph of the natural logarithm of the rate against the natural logarithm of the concentration, we can determine the partial order of each reactant. And the partial order is essentially the exponent of the concentration term in the rate equation.\\n\\nThe differential method is the easiest way to obtain the order of reaction. All we need to do is write the rate expression of the reaction and add up the exponents of the concentration terms. This will give us the final value of the reaction order.\\n\\nIt's also worth noting that when we talk about the order of reaction, we're not just talking about a single value. We're talking about a set of values that represent the number of species whose concentration directly affects the rate of reaction. And this set of values can be zero, a positive integer, or a fraction, depending on the specific reaction we're analyzing.\", 'is_blank_slide': False, 'image_address': 'https://images.pexels.com/photos/8326466/pexels-photo-8326466.jpeg?auto=compress&cs=tinysrgb&h=650&w=940', 'video_address': '', 'image_position': 'right', 'content_position': 'left'}, {'slide_no': 13, 'subtopic': '7. Molecularity', 'content_to_display': '1. Molecularity is the number of molecules that come together to react in an elementary reaction.\\n2. The kinetic order of an elementary reaction or reaction step is equal to its molecularity.', 'narration_script': \"Hello and welcome to our channel, where we're excited to share our knowledge with you on various chemistry topics. Today, we're going to talk about molecularity, a fundamental concept in chemical kinetics.\\n\\nSo, what is molecularity? Molecularity is the number of molecules that come together to react in an elementary reaction. This means that when we talk about molecularity, we're talking about the number of molecules involved in a single step reaction. Molecularity is a very important concept in understanding how reactions occur.\\n\\nNow, let's talk about the kinetic order of a reaction. The kinetic order of a reaction is related to its molecularity. The kinetic order of an elementary reaction or reaction step is equal to its molecularity. This is a very important concept, because it helps us understand how reactions occur.\", 'is_blank_slide': False, 'image_address': 'https://images.pexels.com/photos/9760255/pexels-photo-9760255.jpeg?auto=compress&cs=tinysrgb&h=650&w=940', 'video_address': '', 'image_position': 'right', 'content_position': 'left'}, {'slide_no': 14, 'subtopic': '7. Molecularity', 'content_to_display': '1. Molecularity is only useful to describe elementary reactions or steps.', 'narration_script': \"But here's the thing: molecularity is only useful to describe elementary reactions or steps. When we have complex reactions, with multiple steps, molecularity isn't enough to describe the reaction. We need to look at the entire mechanism, not just the molecularity of each step. So, to summarize, molecularity is the number of molecules involved in an elementary reaction, and it's related to the kinetic order of the reaction. It's a fundamental concept in chemical kinetics, and it's essential to understand it if you want to grasp the underlying mechanisms of chemical reactions.\\n\\nBLANK_SLIDE\", 'is_blank_slide': False, 'image_address': 'https://images.pexels.com/photos/8500642/pexels-photo-8500642.jpeg?auto=compress&cs=tinysrgb&h=650&w=940', 'video_address': '', 'image_position': 'right', 'content_position': 'left'}]}\n"
     ]
    }
   ],
   "source": [
    "enriched_state = enrich_all_slides_with_media(agent_state)\n",
    "print(enriched_state)\n"
   ]
  },
  {
   "cell_type": "code",
   "execution_count": 11,
   "id": "b7896648",
   "metadata": {},
   "outputs": [
    {
     "name": "stdout",
     "output_type": "stream",
     "text": [
      "Collecting python-pptx\n",
      "  Obtaining dependency information for python-pptx from https://files.pythonhosted.org/packages/d9/4f/00be2196329ebbff56ce564aa94efb0fbc828d00de250b1980de1a34ab49/python_pptx-1.0.2-py3-none-any.whl.metadata\n",
      "  Downloading python_pptx-1.0.2-py3-none-any.whl.metadata (2.5 kB)\n",
      "Requirement already satisfied: Pillow>=3.3.2 in c:\\users\\nikhi\\anaconda3\\lib\\site-packages (from python-pptx) (9.4.0)\n",
      "Collecting XlsxWriter>=0.5.7 (from python-pptx)\n",
      "  Obtaining dependency information for XlsxWriter>=0.5.7 from https://files.pythonhosted.org/packages/fa/34/a22e6664211f0c8879521328000bdcae9bf6dbafa94a923e531f6d5b3f73/xlsxwriter-3.2.5-py3-none-any.whl.metadata\n",
      "  Downloading xlsxwriter-3.2.5-py3-none-any.whl.metadata (2.7 kB)\n",
      "Requirement already satisfied: lxml>=3.1.0 in c:\\users\\nikhi\\anaconda3\\lib\\site-packages (from python-pptx) (4.9.2)\n",
      "Requirement already satisfied: typing-extensions>=4.9.0 in c:\\users\\nikhi\\anaconda3\\lib\\site-packages (from python-pptx) (4.14.0)\n",
      "Using cached python_pptx-1.0.2-py3-none-any.whl (472 kB)\n",
      "Using cached xlsxwriter-3.2.5-py3-none-any.whl (172 kB)\n",
      "Installing collected packages: XlsxWriter, python-pptx\n",
      "Successfully installed XlsxWriter-3.2.5 python-pptx-1.0.2\n"
     ]
    }
   ],
   "source": [
    "!pip install python-pptx\n"
   ]
  },
  {
   "cell_type": "code",
   "execution_count": 23,
   "id": "5f10432f",
   "metadata": {},
   "outputs": [],
   "source": [
    "from pptx import Presentation\n",
    "from pptx.util import Inches, Pt\n",
    "from pptx.enum.text import MSO_ANCHOR\n",
    "import requests\n",
    "from io import BytesIO\n",
    "import os\n",
    "\n",
    "\n",
    "\n",
    "def create_ppt_with_alignment(agent_state: dict, output_path: str = None) -> dict:\n",
    "    \"\"\"\n",
    "    Generates a PPT using python-pptx from agent_state's slide_segments.\n",
    "    Aligns image and text based on 'image_position'.\n",
    "    \"\"\"\n",
    "\n",
    "    if not output_path:\n",
    "        output_path = os.path.join(os.getcwd(), 'GeneratedPresentation.pptx')\n",
    "\n",
    "    prs = Presentation()\n",
    "\n",
    "    for slide_data in agent_state.get('slide_segments', []):\n",
    "        slide = prs.slides.add_slide(prs.slide_layouts[5])  # Blank layout for custom placement\n",
    "\n",
    "        # Title\n",
    "        title_shape = slide.shapes.add_textbox(Inches(0.5), Inches(0.3), Inches(9), Inches(1))\n",
    "        title_frame = title_shape.text_frame\n",
    "        title_frame.text = slide_data.get('subtopic', '')\n",
    "        title_frame.paragraphs[0].font.size = Pt(24)\n",
    "\n",
    "        # Content\n",
    "        content_text = slide_data.get('content_to_display', '')\n",
    "        image_url = slide_data.get('image_address', '')\n",
    "        image_position = slide_data.get('image_position', 'right')\n",
    "\n",
    "        # Define sizes\n",
    "        image_width = Inches(3)\n",
    "        text_width = Inches(5.5)\n",
    "        height = Inches(4)\n",
    "\n",
    "        if image_position == 'left':\n",
    "            # Image on left, text on right\n",
    "            img_left = Inches(0.5)\n",
    "            text_left = img_left + image_width + Inches(0.5)\n",
    "        else:\n",
    "            # Image on right, text on left\n",
    "            text_left = Inches(0.5)\n",
    "            img_left = text_left + text_width + Inches(0.5)\n",
    "\n",
    "        # Add text\n",
    "        text_box = slide.shapes.add_textbox(text_left, Inches(1.5), text_width, height)\n",
    "        text_frame = text_box.text_frame\n",
    "        text_frame.text = content_text\n",
    "        text_frame.word_wrap = True\n",
    "        text_frame.vertical_anchor = MSO_ANCHOR.TOP\n",
    "        text_frame.paragraphs[0].font.size = Pt(18)\n",
    "\n",
    "        # Add Image\n",
    "        if image_url:\n",
    "            try:\n",
    "                response = requests.get(image_url)\n",
    "                if response.status_code == 200:\n",
    "                    image_stream = BytesIO(response.content)\n",
    "                    slide.shapes.add_picture(image_stream, img_left, Inches(1.5), width=image_width)\n",
    "            except Exception as e:\n",
    "                print(f\"Failed to add image for slide {slide_data.get('slide_no')}: {e}\")\n",
    "\n",
    "    prs.save(output_path)\n",
    "    print(f\"PPT created with alignment at: {output_path}\")\n",
    "\n",
    "    agent_state['ppt_output_path'] = output_path\n",
    "    return agent_state\n"
   ]
  },
  {
   "cell_type": "code",
   "execution_count": 24,
   "id": "1830042e",
   "metadata": {},
   "outputs": [
    {
     "name": "stdout",
     "output_type": "stream",
     "text": [
      "PPT created with alignment at: ../assets/ppts/GeneratedPresentation.pptx\n",
      "Generated PPT at: ../assets/ppts/GeneratedPresentation.pptx\n"
     ]
    }
   ],
   "source": [
    "output_state = create_ppt_with_alignment(agent_state, output_path='../assets/ppts/GeneratedPresentation.pptx')\n",
    "print(\"Generated PPT at:\", output_state['ppt_output_path'])\n"
   ]
  },
  {
   "cell_type": "code",
   "execution_count": null,
   "id": "9b00cc48",
   "metadata": {},
   "outputs": [],
   "source": []
  }
 ],
 "metadata": {
  "kernelspec": {
   "display_name": "base",
   "language": "python",
   "name": "python3"
  },
  "language_info": {
   "codemirror_mode": {
    "name": "ipython",
    "version": 3
   },
   "file_extension": ".py",
   "mimetype": "text/x-python",
   "name": "python",
   "nbconvert_exporter": "python",
   "pygments_lexer": "ipython3",
   "version": "3.11.4"
  }
 },
 "nbformat": 4,
 "nbformat_minor": 5
}
